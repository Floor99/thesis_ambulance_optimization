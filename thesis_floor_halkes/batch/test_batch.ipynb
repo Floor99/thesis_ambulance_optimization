{
 "cells": [
  {
   "cell_type": "code",
   "execution_count": 37,
   "id": "ef694ac5",
   "metadata": {},
   "outputs": [],
   "source": [
    "import torch\n",
    "from torch_geometric.loader import DataLoader"
   ]
  },
  {
   "cell_type": "code",
   "execution_count": 31,
   "id": "50443fe0",
   "metadata": {},
   "outputs": [],
   "source": [
    "from thesis_floor_halkes.batch.graph_data_batch import (\n",
    "    GraphGenerator,\n",
    "    RandomGraphDataset,\n",
    ")"
   ]
  },
  {
   "cell_type": "code",
   "execution_count": 32,
   "id": "ff8b3aa9",
   "metadata": {},
   "outputs": [],
   "source": [
    "dataset = RandomGraphDataset(\n",
    "    num_graphs=50,\n",
    "    min_nodes=10,\n",
    "    max_nodes=35,\n",
    "    min_prob=0.1,\n",
    "    max_prob=0.5,\n",
    "    max_wait=30,\n",
    "    min_length=100.0,\n",
    "    max_length=1000.0,\n",
    "    min_speed=30.0,\n",
    "    max_speed=100.0,\n",
    ")"
   ]
  },
  {
   "cell_type": "code",
   "execution_count": 34,
   "id": "ba7d25f5",
   "metadata": {},
   "outputs": [
    {
     "data": {
      "text/plain": [
       "Data(x=[17, 3], edge_index=[2, 82], edge_attr=[82, 2], graph_id=0, start_node=12, end_node=5)"
      ]
     },
     "execution_count": 34,
     "metadata": {},
     "output_type": "execute_result"
    }
   ],
   "source": [
    "dataset[0]"
   ]
  },
  {
   "cell_type": "code",
   "execution_count": 17,
   "id": "44ca3068",
   "metadata": {},
   "outputs": [],
   "source": [
    "dataloader = DataLoader(dataset, batch_size=10, shuffle=True)"
   ]
  },
  {
   "cell_type": "code",
   "execution_count": 21,
   "id": "5187be70",
   "metadata": {},
   "outputs": [
    {
     "name": "stdout",
     "output_type": "stream",
     "text": [
      "DataBatch(x=[231, 3], edge_index=[2, 1230], edge_attr=[1230, 2], graph_id=[10], start_node=[10], end_node=[10], batch=[231], ptr=[11])\n",
      "DataBatch(x=[256, 3], edge_index=[2, 1934], edge_attr=[1934, 2], graph_id=[10], start_node=[10], end_node=[10], batch=[256], ptr=[11])\n",
      "DataBatch(x=[210, 3], edge_index=[2, 1236], edge_attr=[1236, 2], graph_id=[10], start_node=[10], end_node=[10], batch=[210], ptr=[11])\n",
      "DataBatch(x=[203, 3], edge_index=[2, 1252], edge_attr=[1252, 2], graph_id=[10], start_node=[10], end_node=[10], batch=[203], ptr=[11])\n",
      "DataBatch(x=[238, 3], edge_index=[2, 2128], edge_attr=[2128, 2], graph_id=[10], start_node=[10], end_node=[10], batch=[238], ptr=[11])\n"
     ]
    }
   ],
   "source": [
    "for data in dataloader:\n",
    "    print(data)"
   ]
  },
  {
   "cell_type": "code",
   "execution_count": 22,
   "id": "149addf5",
   "metadata": {},
   "outputs": [
    {
     "data": {
      "text/plain": [
       "tensor([0, 0, 0, 0, 0, 0, 0, 0, 0, 0, 0, 0, 0, 0, 0, 0, 0, 0, 0, 1, 1, 1, 1, 1,\n",
       "        1, 1, 1, 1, 1, 1, 1, 1, 1, 1, 1, 1, 1, 1, 1, 1, 1, 1, 1, 1, 1, 1, 2, 2,\n",
       "        2, 2, 2, 2, 2, 2, 2, 2, 3, 3, 3, 3, 3, 3, 3, 3, 3, 3, 3, 3, 3, 3, 3, 3,\n",
       "        3, 3, 3, 3, 3, 3, 3, 3, 3, 3, 3, 3, 3, 3, 3, 3, 3, 3, 3, 4, 4, 4, 4, 4,\n",
       "        4, 4, 4, 4, 4, 4, 4, 4, 4, 4, 4, 4, 4, 4, 4, 4, 4, 4, 4, 4, 4, 4, 4, 4,\n",
       "        4, 4, 5, 5, 5, 5, 5, 5, 5, 5, 5, 5, 5, 5, 5, 5, 5, 5, 5, 5, 5, 5, 5, 5,\n",
       "        5, 5, 5, 5, 5, 5, 5, 5, 5, 5, 5, 5, 6, 6, 6, 6, 6, 6, 6, 6, 6, 6, 6, 6,\n",
       "        6, 6, 6, 6, 6, 7, 7, 7, 7, 7, 7, 7, 7, 7, 7, 7, 7, 7, 7, 7, 7, 7, 7, 7,\n",
       "        8, 8, 8, 8, 8, 8, 8, 8, 8, 8, 8, 8, 8, 8, 8, 8, 8, 8, 8, 8, 9, 9, 9, 9,\n",
       "        9, 9, 9, 9, 9, 9, 9, 9, 9, 9, 9, 9, 9, 9, 9, 9, 9, 9, 9, 9, 9, 9])"
      ]
     },
     "execution_count": 22,
     "metadata": {},
     "output_type": "execute_result"
    }
   ],
   "source": [
    "data.batch"
   ]
  },
  {
   "cell_type": "code",
   "execution_count": 5,
   "id": "717d2da7",
   "metadata": {},
   "outputs": [],
   "source": [
    "import torch"
   ]
  },
  {
   "cell_type": "code",
   "execution_count": 12,
   "id": "a83f2773",
   "metadata": {},
   "outputs": [
    {
     "name": "stdout",
     "output_type": "stream",
     "text": [
      "6 1\n",
      "6 1\n"
     ]
    }
   ],
   "source": [
    "start_node = torch.randint(0, 10, (1,)).item()\n",
    "end_node = torch.randint(0, 10, (1,)).item()\n",
    "print(start_node, end_node)\n",
    "while start_node == end_node:\n",
    "    end_node = torch.randint(0, 10, (1,)).item()\n",
    "\n",
    "print(start_node, end_node)"
   ]
  },
  {
   "cell_type": "code",
   "execution_count": null,
   "id": "36317562",
   "metadata": {},
   "outputs": [
    {
     "name": "stdout",
     "output_type": "stream",
     "text": [
      " action is None\n",
      "visited_nodes = [4]\n"
     ]
    }
   ],
   "source": [
    "from thesis_floor_halkes.model_dynamic_attention import (\n",
    "    DynamicGATEncoder,\n",
    "    GATModelEncoderStatic,\n",
    "    AttentionDecoderChat,\n",
    ")\n",
    "from thesis_floor_halkes.environment.dynamic_ambulance import DynamicEnvironment\n",
    "from thesis_floor_halkes.batch.graph_data_batch import (\n",
    "    GraphGenerator,\n",
    "    RandomGraphPytorchDataset,\n",
    ")\n",
    "from thesis_floor_halkes.features.dynamic.getter import (\n",
    "    DynamicFeatureGetter,\n",
    "    RandomDynamicFeatureGetter,\n",
    ")\n",
    "from thesis_floor_halkes.penalties.calculator import PenaltyCalculator\n",
    "from thesis_floor_halkes.utils.adj_matrix import build_adjecency_matrix\n",
    "\n",
    "data = GraphGenerator(\n",
    "    num_nodes=15,\n",
    "    edge_prob=0.5,\n",
    "    max_wait=10.0,\n",
    ").generate()\n",
    "\n",
    "dataset = RandomGraphPytorchDataset(\n",
    "    num_graphs=2,\n",
    "    min_nodes=5,\n",
    "    max_nodes=5,\n",
    "    min_prob=1,\n",
    "    max_prob=1,\n",
    ")\n",
    "\n",
    "env = DynamicEnvironment(\n",
    "    static_dataset=dataset,\n",
    "    dynamic_feature_getter=RandomDynamicFeatureGetter(),\n",
    "    penalty_calculator=PenaltyCalculator,\n",
    "    max_steps=30,\n",
    ")\n",
    "hidden_size = 64\n",
    "\n",
    "static_encoder = GATModelEncoderStatic(\n",
    "    in_channels=1, hidden_size=hidden_size, edge_attr_dim=2\n",
    ")\n",
    "dynamic_encoder = DynamicGATEncoder(in_channels=2, hidden_size=hidden_size)\n",
    "decoder = AttentionDecoderChat(embed_dim=hidden_size * 2, num_heads=4)\n",
    "\n",
    "\n",
    "def embed_graph(data, type=\"static\"):\n",
    "    if type == \"static\":\n",
    "        return static_encoder(data)\n",
    "    elif type == \"dynamic\":\n",
    "        return dynamic_encoder(data)\n",
    "    else:\n",
    "        raise ValueError(\"Invalid graph type. Use 'static' or 'dynamic'.\")\n",
    "\n",
    "\n",
    "def select_action(state):\n",
    "    # if self.static_context is None:\n",
    "    #     static_embedding = self._embed_graph(state.static_data, type=\"static\")\n",
    "    # else:\n",
    "    #     static_embedding = self.static_context\n",
    "    # dynamic_embedding = self._embed_graph(state.dynamic_data, type=\"dynamic\")\n",
    "    # final_embedding = torch.cat((static_embedding, dynamic_embedding), dim=1)\n",
    "    # action, action_log_prob = self.decoder(final_embedding)\n",
    "    static_embedding = embed_graph(state.static_data, type=\"static\")\n",
    "    dynamic_embedding = embed_graph(state.dynamic_data, type=\"dynamic\")\n",
    "    final_embedding = torch.cat(\n",
    "        (static_embedding, dynamic_embedding), dim=1\n",
    "    )  # overwegen om naar + ipv cat te doen\n",
    "    action, action_log_prob, _ = AttentionDecoderChat(\n",
    "        final_embedding, current_node=current_node, invalid_action_mask=visited\n",
    "    )\n",
    "\n",
    "    return action, action_log_prob"
   ]
  },
  {
   "cell_type": "code",
   "execution_count": 15,
   "id": "d80e9337",
   "metadata": {},
   "outputs": [
    {
     "name": "stdout",
     "output_type": "stream",
     "text": [
      " action is None\n",
      "visited_nodes = [1]\n"
     ]
    },
    {
     "ename": "TypeError",
     "evalue": "select_action() missing 1 required positional argument: 'state'",
     "output_type": "error",
     "traceback": [
      "\u001b[31m---------------------------------------------------------------------------\u001b[39m",
      "\u001b[31mTypeError\u001b[39m                                 Traceback (most recent call last)",
      "\u001b[36mCell\u001b[39m\u001b[36m \u001b[39m\u001b[32mIn[15]\u001b[39m\u001b[32m, line 4\u001b[39m\n\u001b[32m      2\u001b[39m state = env.reset()\n\u001b[32m      3\u001b[39m \u001b[38;5;28;01mfor\u001b[39;00m step \u001b[38;5;129;01min\u001b[39;00m \u001b[38;5;28mrange\u001b[39m(\u001b[32m2\u001b[39m):\n\u001b[32m----> \u001b[39m\u001b[32m4\u001b[39m     action, action_log_prob = \u001b[43mselect_action\u001b[49m\u001b[43m(\u001b[49m\u001b[43mstate\u001b[49m\u001b[43m)\u001b[49m\n\u001b[32m      5\u001b[39m     \u001b[38;5;28mprint\u001b[39m(action, action_log_prob)\n",
      "\u001b[31mTypeError\u001b[39m: select_action() missing 1 required positional argument: 'state'"
     ]
    }
   ],
   "source": [
    "for graph in dataset:\n",
    "    state = env.reset()\n",
    "    for step in range(2):\n",
    "        action, action_log_prob = select_action(state)\n",
    "        print(action, action_log_prob)"
   ]
  },
  {
   "cell_type": "code",
   "execution_count": 21,
   "id": "28b5ebdf",
   "metadata": {},
   "outputs": [
    {
     "name": "stdout",
     "output_type": "stream",
     "text": [
      "tensor([True, True, True, True, True, True, True, True, True, True, True, True,\n",
      "        True, True, True])\n",
      "tensor([[True, True, True, True, True, True, True, True, True, True, True, True,\n",
      "         True, True, True]])\n",
      "torch.Size([15])\n",
      "torch.Size([1, 15])\n"
     ]
    }
   ],
   "source": [
    "num_nodes = 15\n",
    "valid_actions = torch.arange(num_nodes)  # Example: all nodes are valid actions\n",
    "action_mask = torch.ones(num_nodes, dtype=torch.bool)\n",
    "action_mask[valid_actions] = 1\n",
    "\n",
    "print(action_mask)\n",
    "print(action_mask.unsqueeze(0))\n",
    "print(action_mask.shape)\n",
    "print(action_mask.unsqueeze(0).shape)"
   ]
  },
  {
   "cell_type": "code",
   "execution_count": 2,
   "id": "b4546ca4",
   "metadata": {},
   "outputs": [],
   "source": [
    "emb = [{\"node\": 3, \"embedding\": 5}, {\"node\": 4, \"embedding\": 10}]"
   ]
  },
  {
   "cell_type": "code",
   "execution_count": 3,
   "id": "76ad3e46",
   "metadata": {},
   "outputs": [
    {
     "ename": "TypeError",
     "evalue": "list indices must be integers or slices, not str",
     "output_type": "error",
     "traceback": [
      "\u001b[31m---------------------------------------------------------------------------\u001b[39m",
      "\u001b[31mTypeError\u001b[39m                                 Traceback (most recent call last)",
      "\u001b[36mCell\u001b[39m\u001b[36m \u001b[39m\u001b[32mIn[3]\u001b[39m\u001b[32m, line 1\u001b[39m\n\u001b[32m----> \u001b[39m\u001b[32m1\u001b[39m \u001b[43memb\u001b[49m\u001b[43m[\u001b[49m\u001b[33;43m'\u001b[39;49m\u001b[33;43membedding\u001b[39;49m\u001b[33;43m'\u001b[39;49m\u001b[43m]\u001b[49m\n",
      "\u001b[31mTypeError\u001b[39m: list indices must be integers or slices, not str"
     ]
    }
   ],
   "source": [
    "emb[\"embedding\"]"
   ]
  },
  {
   "cell_type": "code",
   "execution_count": null,
   "id": "c6ebee97",
   "metadata": {},
   "outputs": [],
   "source": []
  }
 ],
 "metadata": {
  "kernelspec": {
   "display_name": ".venv",
   "language": "python",
   "name": "python3"
  },
  "language_info": {
   "codemirror_mode": {
    "name": "ipython",
    "version": 3
   },
   "file_extension": ".py",
   "mimetype": "text/x-python",
   "name": "python",
   "nbconvert_exporter": "python",
   "pygments_lexer": "ipython3",
   "version": "3.11.2"
  }
 },
 "nbformat": 4,
 "nbformat_minor": 5
}
