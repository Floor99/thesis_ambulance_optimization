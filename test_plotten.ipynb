{
 "cells": [
  {
   "cell_type": "code",
   "execution_count": 1,
   "id": "81fef274",
   "metadata": {},
   "outputs": [],
   "source": [
    "import osmnx as ox \n",
    "import networkx as nx\n",
    "import pandas as pd\n",
    "import matplotlib.pyplot as plt"
   ]
  },
  {
   "cell_type": "code",
   "execution_count": null,
   "id": "cb68dbb8",
   "metadata": {},
   "outputs": [],
   "source": [
    "ts = pd.read_parquet(\"/home/jens/projects/floor_projects/scriptie_floor/thesis_floor_halkes/data/processed/node_features.parquet\")"
   ]
  },
  {
   "cell_type": "code",
   "execution_count": 30,
   "id": "0f71469c",
   "metadata": {},
   "outputs": [
    {
     "data": {
      "text/html": [
       "<div>\n",
       "<style scoped>\n",
       "    .dataframe tbody tr th:only-of-type {\n",
       "        vertical-align: middle;\n",
       "    }\n",
       "\n",
       "    .dataframe tbody tr th {\n",
       "        vertical-align: top;\n",
       "    }\n",
       "\n",
       "    .dataframe thead th {\n",
       "        text-align: right;\n",
       "    }\n",
       "</style>\n",
       "<table border=\"1\" class=\"dataframe\">\n",
       "  <thead>\n",
       "    <tr style=\"text-align: right;\">\n",
       "      <th></th>\n",
       "      <th>node_id</th>\n",
       "      <th>tlc_name</th>\n",
       "      <th>lat</th>\n",
       "      <th>lon</th>\n",
       "      <th>has_light</th>\n",
       "      <th>distance_m</th>\n",
       "      <th>timestamp</th>\n",
       "      <th>wait_time</th>\n",
       "    </tr>\n",
       "  </thead>\n",
       "  <tbody>\n",
       "    <tr>\n",
       "      <th>0</th>\n",
       "      <td>27214701</td>\n",
       "      <td>0</td>\n",
       "      <td>51.471471</td>\n",
       "      <td>5.589597</td>\n",
       "      <td>0</td>\n",
       "      <td>691.764545</td>\n",
       "      <td>2024-01-31 00:00:00</td>\n",
       "      <td>0.0</td>\n",
       "    </tr>\n",
       "    <tr>\n",
       "      <th>1</th>\n",
       "      <td>27214701</td>\n",
       "      <td>0</td>\n",
       "      <td>51.471471</td>\n",
       "      <td>5.589597</td>\n",
       "      <td>0</td>\n",
       "      <td>691.764545</td>\n",
       "      <td>2024-01-31 00:15:00</td>\n",
       "      <td>0.0</td>\n",
       "    </tr>\n",
       "    <tr>\n",
       "      <th>2</th>\n",
       "      <td>27214701</td>\n",
       "      <td>0</td>\n",
       "      <td>51.471471</td>\n",
       "      <td>5.589597</td>\n",
       "      <td>0</td>\n",
       "      <td>691.764545</td>\n",
       "      <td>2024-01-31 00:30:00</td>\n",
       "      <td>0.0</td>\n",
       "    </tr>\n",
       "    <tr>\n",
       "      <th>3</th>\n",
       "      <td>27214701</td>\n",
       "      <td>0</td>\n",
       "      <td>51.471471</td>\n",
       "      <td>5.589597</td>\n",
       "      <td>0</td>\n",
       "      <td>691.764545</td>\n",
       "      <td>2024-01-31 00:45:00</td>\n",
       "      <td>0.0</td>\n",
       "    </tr>\n",
       "    <tr>\n",
       "      <th>4</th>\n",
       "      <td>27214701</td>\n",
       "      <td>0</td>\n",
       "      <td>51.471471</td>\n",
       "      <td>5.589597</td>\n",
       "      <td>0</td>\n",
       "      <td>691.764545</td>\n",
       "      <td>2024-01-31 01:00:00</td>\n",
       "      <td>0.0</td>\n",
       "    </tr>\n",
       "    <tr>\n",
       "      <th>...</th>\n",
       "      <td>...</td>\n",
       "      <td>...</td>\n",
       "      <td>...</td>\n",
       "      <td>...</td>\n",
       "      <td>...</td>\n",
       "      <td>...</td>\n",
       "      <td>...</td>\n",
       "      <td>...</td>\n",
       "    </tr>\n",
       "    <tr>\n",
       "      <th>386779</th>\n",
       "      <td>12655438217</td>\n",
       "      <td>0</td>\n",
       "      <td>51.492909</td>\n",
       "      <td>5.687620</td>\n",
       "      <td>0</td>\n",
       "      <td>679.237274</td>\n",
       "      <td>2024-01-31 22:45:00</td>\n",
       "      <td>0.0</td>\n",
       "    </tr>\n",
       "    <tr>\n",
       "      <th>386780</th>\n",
       "      <td>12655438217</td>\n",
       "      <td>0</td>\n",
       "      <td>51.492909</td>\n",
       "      <td>5.687620</td>\n",
       "      <td>0</td>\n",
       "      <td>679.237274</td>\n",
       "      <td>2024-01-31 23:00:00</td>\n",
       "      <td>0.0</td>\n",
       "    </tr>\n",
       "    <tr>\n",
       "      <th>386781</th>\n",
       "      <td>12655438217</td>\n",
       "      <td>0</td>\n",
       "      <td>51.492909</td>\n",
       "      <td>5.687620</td>\n",
       "      <td>0</td>\n",
       "      <td>679.237274</td>\n",
       "      <td>2024-01-31 23:15:00</td>\n",
       "      <td>0.0</td>\n",
       "    </tr>\n",
       "    <tr>\n",
       "      <th>386782</th>\n",
       "      <td>12655438217</td>\n",
       "      <td>0</td>\n",
       "      <td>51.492909</td>\n",
       "      <td>5.687620</td>\n",
       "      <td>0</td>\n",
       "      <td>679.237274</td>\n",
       "      <td>2024-01-31 23:30:00</td>\n",
       "      <td>0.0</td>\n",
       "    </tr>\n",
       "    <tr>\n",
       "      <th>386783</th>\n",
       "      <td>12655438217</td>\n",
       "      <td>0</td>\n",
       "      <td>51.492909</td>\n",
       "      <td>5.687620</td>\n",
       "      <td>0</td>\n",
       "      <td>679.237274</td>\n",
       "      <td>2024-01-31 23:45:00</td>\n",
       "      <td>0.0</td>\n",
       "    </tr>\n",
       "  </tbody>\n",
       "</table>\n",
       "<p>386784 rows × 8 columns</p>\n",
       "</div>"
      ],
      "text/plain": [
       "            node_id tlc_name        lat       lon  has_light  distance_m  \\\n",
       "0          27214701        0  51.471471  5.589597          0  691.764545   \n",
       "1          27214701        0  51.471471  5.589597          0  691.764545   \n",
       "2          27214701        0  51.471471  5.589597          0  691.764545   \n",
       "3          27214701        0  51.471471  5.589597          0  691.764545   \n",
       "4          27214701        0  51.471471  5.589597          0  691.764545   \n",
       "...             ...      ...        ...       ...        ...         ...   \n",
       "386779  12655438217        0  51.492909  5.687620          0  679.237274   \n",
       "386780  12655438217        0  51.492909  5.687620          0  679.237274   \n",
       "386781  12655438217        0  51.492909  5.687620          0  679.237274   \n",
       "386782  12655438217        0  51.492909  5.687620          0  679.237274   \n",
       "386783  12655438217        0  51.492909  5.687620          0  679.237274   \n",
       "\n",
       "                 timestamp  wait_time  \n",
       "0      2024-01-31 00:00:00        0.0  \n",
       "1      2024-01-31 00:15:00        0.0  \n",
       "2      2024-01-31 00:30:00        0.0  \n",
       "3      2024-01-31 00:45:00        0.0  \n",
       "4      2024-01-31 01:00:00        0.0  \n",
       "...                    ...        ...  \n",
       "386779 2024-01-31 22:45:00        0.0  \n",
       "386780 2024-01-31 23:00:00        0.0  \n",
       "386781 2024-01-31 23:15:00        0.0  \n",
       "386782 2024-01-31 23:30:00        0.0  \n",
       "386783 2024-01-31 23:45:00        0.0  \n",
       "\n",
       "[386784 rows x 8 columns]"
      ]
     },
     "execution_count": 30,
     "metadata": {},
     "output_type": "execute_result"
    }
   ],
   "source": [
    "ts"
   ]
  },
  {
   "cell_type": "code",
   "execution_count": 105,
   "id": "f075b841",
   "metadata": {},
   "outputs": [],
   "source": [
    "def create_osmnx_sub_graph_only_inside_helmond(lat, lon, dist, timeseries_df):\n",
    "    unique_timeseries = (timeseries_df.loc[:, ['node_id', 'lat', 'lon']]\n",
    "                           .drop_duplicates(subset=['node_id'])\n",
    "                           .set_index('node_id'))\n",
    "    print(unique_timeseries)\n",
    "    G_pt = ox.graph_from_point(\n",
    "        (lat, lon),\n",
    "        dist=dist,\n",
    "        network_type='drive',\n",
    "        simplify=True,\n",
    "    )\n",
    "    \n",
    "    common_nodes = set(G_pt.nodes()).intersection(unique_timeseries.index)\n",
    "    print(common_nodes)\n",
    "    G_sub = G_pt.subgraph(common_nodes).copy()\n",
    "    G_sub = ox.truncate.largest_component(G_sub, strongly=False)\n",
    "    \n",
    "    return G_sub, G_pt"
   ]
  },
  {
   "cell_type": "code",
   "execution_count": 121,
   "id": "993d4322",
   "metadata": {},
   "outputs": [
    {
     "name": "stdout",
     "output_type": "stream",
     "text": [
      "                   lat       lon\n",
      "node_id                         \n",
      "27214701     51.471471  5.589597\n",
      "29595471     51.486524  5.574194\n",
      "34399134     51.486591  5.605116\n",
      "34399138     51.488014  5.607059\n",
      "34399144     51.489518  5.609281\n",
      "...                ...       ...\n",
      "12248505025  51.466055  5.637474\n",
      "12248505026  51.466245  5.637120\n",
      "12248505028  51.465997  5.637138\n",
      "12334296444  51.476662  5.657932\n",
      "12655438217  51.492909  5.687620\n",
      "\n",
      "[4029 rows x 2 columns]\n",
      "{42712417, 42715492, 42712080, 42722867, 3265122452, 3265122453, 42713657, 5194661274, 5187196572, 5187196573}\n"
     ]
    }
   ],
   "source": [
    "g_sub, g_pt = create_osmnx_sub_graph_only_inside_helmond(51.473609, 5.738671, 1000, ts)"
   ]
  },
  {
   "cell_type": "code",
   "execution_count": 126,
   "id": "abefa146",
   "metadata": {},
   "outputs": [
    {
     "name": "stdout",
     "output_type": "stream",
     "text": [
      "Start node: 5194661274\n",
      "End node: 42712417\n",
      "[5194661274, 42713657, 3265122453, 42715492, 42722867, 42712080, 42712417]\n"
     ]
    },
    {
     "data": {
      "text/plain": [
       "<Axes: >"
      ]
     },
     "execution_count": 126,
     "metadata": {},
     "output_type": "execute_result"
    },
    {
     "data": {
      "image/png": "[encoded data removed]",
      "text/plain": [
       "<Figure size 800x800 with 1 Axes>"
      ]
     },
     "metadata": {},
     "output_type": "display_data"
    }
   ],
   "source": [
    "start_node = ox.nearest_nodes(g_sub, 51.473609, 5.738671)\n",
    "end_node = list(g_sub.nodes)[1]\n",
    "print(\"Start node:\", start_node)\n",
    "print(\"End node:\", end_node)\n",
    "shortest_path = nx.shortest_path(g_sub, start_node, end_node, weight='length')\n",
    "print(shortest_path)\n",
    "plot_with_route(g_sub, g_pt, shortest_path)"
   ]
  },
  {
   "cell_type": "code",
   "execution_count": 118,
   "id": "517df5dc",
   "metadata": {},
   "outputs": [],
   "source": [
    "def plot_with_route(G_sub, G_pt, route=None, ax=None):\n",
    "    if ax is None:\n",
    "        fig, ax = plt.subplots(figsize=(8,8))\n",
    "\n",
    "    # draw base graph\n",
    "    ox.plot_graph(\n",
    "        G_pt, ax=ax, show=False, close=False,\n",
    "        node_size=0, edge_color='lightgray',\n",
    "        edge_linewidth=0.5, bgcolor='white'\n",
    "    )\n",
    "\n",
    "    # optionally draw the route\n",
    "    if route is not None:\n",
    "        ox.plot_graph_route(\n",
    "            G_pt,\n",
    "            route,\n",
    "            route_color='tab:green',\n",
    "            route_linewidth=3,\n",
    "            ax=ax,\n",
    "            show=False,\n",
    "            close=False,\n",
    "            orig_dest_node_size=0\n",
    "        )\n",
    "\n",
    "    # then your inside/outside scatters...\n",
    "    pos = {nid: (data['x'], data['y']) for nid, data in G_pt.nodes(data=True)}\n",
    "    inside = set(G_sub.nodes())\n",
    "    outside = set(G_pt.nodes()) - inside\n",
    "\n",
    "    ax.scatter([pos[n][0] for n in outside],\n",
    "               [pos[n][1] for n in outside],\n",
    "               c='red', s=10, label='outside DF1')\n",
    "    ax.scatter([pos[n][0] for n in inside],\n",
    "               [pos[n][1] for n in inside],\n",
    "               c='blue', s=10, label='inside DF1')\n",
    "\n",
    "    ax.legend()\n",
    "    return ax"
   ]
  },
  {
   "cell_type": "code",
   "execution_count": 109,
   "id": "40df3033",
   "metadata": {},
   "outputs": [
    {
     "data": {
      "text/plain": [
       "<Axes: >"
      ]
     },
     "execution_count": 109,
     "metadata": {},
     "output_type": "execute_result"
    },
    {
     "data": {
      "image/png": "[encoded data removed]",
      "text/plain": [
       "<Figure size 800x800 with 1 Axes>"
      ]
     },
     "metadata": {},
     "output_type": "display_data"
    }
   ],
   "source": [
    "plot_with_route(g_sub, g_pt)"
   ]
  }
 ],
 "metadata": {
  "kernelspec": {
   "display_name": ".venv",
   "language": "python",
   "name": "python3"
  },
  "language_info": {
   "codemirror_mode": {
    "name": "ipython",
    "version": 3
   },
   "file_extension": ".py",
   "mimetype": "text/x-python",
   "name": "python",
   "nbconvert_exporter": "python",
   "pygments_lexer": "ipython3",
   "version": "3.11.2"
  }
 },
 "nbformat": 4,
 "nbformat_minor": 5
}
